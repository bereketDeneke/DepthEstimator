{
 "cells": [
  {
   "cell_type": "code",
   "execution_count": 14,
   "metadata": {},
   "outputs": [],
   "source": [
    "# !pip install torch torchvision opencv-python\n",
    "# !pip install pandas\n",
    "# !pip install requests\n",
    "# !pip install --upgrade numpy"
   ]
  },
  {
   "cell_type": "code",
   "execution_count": 17,
   "metadata": {},
   "outputs": [
    {
     "name": "stderr",
     "output_type": "stream",
     "text": [
      "Using cache found in /Users/bereket/.cache/torch/hub/ultralytics_yolov5_master\n",
      "YOLOv5 🚀 2024-12-16 Python-3.9.6 torch-2.5.1 CPU\n",
      "\n",
      "Fusing layers... \n",
      "YOLOv5s summary: 213 layers, 7225885 parameters, 0 gradients, 16.4 GFLOPs\n",
      "Adding AutoShape... \n",
      "Using cache found in /Users/bereket/.cache/torch/hub/intel-isl_MiDaS_master\n",
      "Using cache found in /Users/bereket/.cache/torch/hub/rwightman_gen-efficientnet-pytorch_master\n"
     ]
    },
    {
     "name": "stdout",
     "output_type": "stream",
     "text": [
      "Loading weights:  None\n"
     ]
    },
    {
     "name": "stderr",
     "output_type": "stream",
     "text": [
      "Using cache found in /Users/bereket/.cache/torch/hub/intel-isl_MiDaS_master\n",
      "/Users/bereket/.cache/torch/hub/ultralytics_yolov5_master/models/common.py:892: FutureWarning: `torch.cuda.amp.autocast(args...)` is deprecated. Please use `torch.amp.autocast('cuda', args...)` instead.\n",
      "  with amp.autocast(autocast):\n"
     ]
    },
    {
     "name": "stdout",
     "output_type": "stream",
     "text": [
      "Object: person, Distance: 235.74m\n",
      "Object: person, Distance: 478.62m\n",
      "Object: chair, Distance: 311.19m\n",
      "Object: chair, Distance: 201.15m\n",
      "Object: chair, Distance: 164.29m\n",
      "Object: couch, Distance: 600.03m\n",
      "Object: chair, Distance: 155.03m\n",
      "Object: chair, Distance: 137.15m\n",
      "Object: person, Distance: 218.52m\n",
      "Object: chair, Distance: 144.23m\n",
      "Object: chair, Distance: 150.07m\n",
      "Object: cup, Distance: 680.78m\n",
      "Object: chair, Distance: 124.76m\n",
      "Object: couch, Distance: 127.83m\n",
      "Object: chair, Distance: 175.12m\n",
      "Object: person, Distance: 175.52m\n",
      "Object: chair, Distance: 125.59m\n",
      "Object: dining table, Distance: 381.76m\n",
      "Object: person, Distance: 235.02m\n"
     ]
    }
   ],
   "source": [
    "import torch\n",
    "import cv2\n",
    "import numpy as np\n",
    "from torchvision.transforms import Compose, Resize, ToTensor\n",
    "\n",
    "# Load YOLOv5 model\n",
    "yolo_model = torch.hub.load('ultralytics/yolov5', 'yolov5s', pretrained=True)\n",
    "\n",
    "# Load MiDaS model\n",
    "midas_model = torch.hub.load('intel-isl/MiDaS', 'MiDaS_small')\n",
    "midas_transform = torch.hub.load('intel-isl/MiDaS', 'transforms').small_transform\n",
    "\n",
    "# Function to estimate depth\n",
    "def estimate_depth(image):\n",
    "\n",
    "    input_image = midas_transform(image).unsqueeze(0)\n",
    "    input_image = input_image.squeeze(1)  # Removes the second dimension\n",
    "    with torch.no_grad():\n",
    "        depth = midas_model(input_image)\n",
    "    depth = torch.nn.functional.interpolate(\n",
    "        depth.unsqueeze(1),\n",
    "        size=image.shape[:2],\n",
    "        mode='bicubic',\n",
    "        align_corners=False\n",
    "    ).squeeze()\n",
    "    depth = depth.cpu().numpy()\n",
    "    return depth\n",
    "\n",
    "# Function to detect objects and estimate distances\n",
    "def detect_objects_and_estimate_distances(image_path):\n",
    "    # Load image\n",
    "    image = cv2.imread(image_path)\n",
    "    image_rgb = cv2.cvtColor(image, cv2.COLOR_BGR2RGB)\n",
    "\n",
    "    # Object detection\n",
    "    results = yolo_model(image_rgb)\n",
    "    detections = results.pandas().xyxy[0]\n",
    "\n",
    "    # Depth estimation\n",
    "    depth_map = estimate_depth(image_rgb)\n",
    "\n",
    "    # Compile results\n",
    "    objects_with_distances = []\n",
    "    for _, row in detections.iterrows():\n",
    "        xmin, ymin, xmax, ymax = map(int, [row['xmin'], row['ymin'], row['xmax'], row['ymax']])\n",
    "        object_name = row['name']\n",
    "\n",
    "        # Extract depth values within the bounding box\n",
    "        object_depth = depth_map[ymin:ymax, xmin:xmax]\n",
    "        median_depth = np.median(object_depth)\n",
    "\n",
    "        # Append result\n",
    "        objects_with_distances.append({\n",
    "            \"name\": object_name,\n",
    "            \"distance\": f\"{median_depth:.2f}m\"\n",
    "        })\n",
    "\n",
    "    return objects_with_distances\n",
    "\n",
    "image_path = 'test3.png'\n",
    "results = detect_objects_and_estimate_distances(image_path)\n",
    "for result in results:\n",
    "    print(f\"Object: {result['name']}, Distance: {result['distance']}\")"
   ]
  },
  {
   "cell_type": "code",
   "execution_count": 19,
   "metadata": {},
   "outputs": [
    {
     "name": "stderr",
     "output_type": "stream",
     "text": [
      "Using cache found in /Users/bereket/.cache/torch/hub/ultralytics_yolov5_master\n",
      "YOLOv5 🚀 2024-12-16 Python-3.9.6 torch-2.5.1 CPU\n",
      "\n",
      "Fusing layers... \n",
      "YOLOv5s summary: 213 layers, 7225885 parameters, 0 gradients, 16.4 GFLOPs\n",
      "Adding AutoShape... \n",
      "Using cache found in /Users/bereket/.cache/torch/hub/intel-isl_MiDaS_master\n",
      "Using cache found in /Users/bereket/.cache/torch/hub/rwightman_gen-efficientnet-pytorch_master\n"
     ]
    },
    {
     "name": "stdout",
     "output_type": "stream",
     "text": [
      "Loading weights:  None\n"
     ]
    },
    {
     "name": "stderr",
     "output_type": "stream",
     "text": [
      "Using cache found in /Users/bereket/.cache/torch/hub/intel-isl_MiDaS_master\n",
      "/Users/bereket/.cache/torch/hub/ultralytics_yolov5_master/models/common.py:892: FutureWarning: `torch.cuda.amp.autocast(args...)` is deprecated. Please use `torch.amp.autocast('cuda', args...)` instead.\n",
      "  with amp.autocast(autocast):\n"
     ]
    }
   ],
   "source": [
    "import torch\n",
    "import cv2\n",
    "import numpy as np\n",
    "from torchvision.transforms import Compose, Resize, ToTensor\n",
    "\n",
    "# Load YOLOv5 model\n",
    "yolo_model = torch.hub.load('ultralytics/yolov5', 'yolov5s', pretrained=True)\n",
    "\n",
    "# Load MiDaS model\n",
    "midas_model = torch.hub.load('intel-isl/MiDaS', 'MiDaS_small')\n",
    "midas_transform = torch.hub.load('intel-isl/MiDaS', 'transforms').small_transform\n",
    "\n",
    "# Function to estimate depth\n",
    "def estimate_depth(image):\n",
    "    input_image = midas_transform(image).unsqueeze(0)\n",
    "    input_image = input_image.squeeze(1)  # Removes the second dimension\n",
    "    with torch.no_grad():\n",
    "        depth = midas_model(input_image)\n",
    "    depth = torch.nn.functional.interpolate(\n",
    "        depth.unsqueeze(1),\n",
    "        size=image.shape[:2],\n",
    "        mode='bicubic',\n",
    "        align_corners=False\n",
    "    ).squeeze()\n",
    "    depth = depth.cpu().numpy()\n",
    "    return depth\n",
    "\n",
    "# Function to detect objects, estimate distances, and annotate image\n",
    "def detect_and_annotate(image_path, output_path):\n",
    "    # Load image\n",
    "    image = cv2.imread(image_path)\n",
    "    image_rgb = cv2.cvtColor(image, cv2.COLOR_BGR2RGB)\n",
    "\n",
    "    # Object detection\n",
    "    results = yolo_model(image_rgb)\n",
    "    detections = results.pandas().xyxy[0]\n",
    "\n",
    "    # Depth estimation\n",
    "    depth_map = estimate_depth(image_rgb)\n",
    "\n",
    "    # Annotate image with bounding boxes and labels\n",
    "    for _, row in detections.iterrows():\n",
    "        xmin, ymin, xmax, ymax = map(int, [row['xmin'], row['ymin'], row['xmax'], row['ymax']])\n",
    "        object_name = row['name']\n",
    "\n",
    "        # Extract depth values within the bounding box\n",
    "        object_depth = depth_map[ymin:ymax, xmin:xmax]\n",
    "        median_depth = np.median(object_depth)\n",
    "\n",
    "        # Draw bounding box\n",
    "        cv2.rectangle(image, (xmin, ymin), (xmax, ymax), (0, 255, 0), 2)\n",
    "\n",
    "        # Prepare label with object name and distance\n",
    "        label = f\"{object_name}: {median_depth:.2f}m\"\n",
    "\n",
    "        # Calculate label position\n",
    "        label_size, _ = cv2.getTextSize(label, cv2.FONT_HERSHEY_SIMPLEX, 0.5, 1)\n",
    "        label_ymin = max(ymin, label_size[1] + 10)\n",
    "\n",
    "        # Draw label background\n",
    "        cv2.rectangle(image, (xmin, label_ymin - label_size[1] - 10), (xmin + label_size[0], label_ymin + 5), (0, 255, 0), cv2.FILLED)\n",
    "\n",
    "        # Put label text above the bounding box\n",
    "        cv2.putText(image, label, (xmin, label_ymin - 7), cv2.FONT_HERSHEY_SIMPLEX, 0.5, (0, 0, 0), 1)\n",
    "\n",
    "    # Save the annotated image\n",
    "    cv2.imwrite(output_path, image)\n",
    "\n",
    "# Example usage\n",
    "image_path = 'test3.png'\n",
    "output_path = 'annotated_test3.png'\n",
    "detect_and_annotate(image_path, output_path)\n"
   ]
  }
 ],
 "metadata": {
  "kernelspec": {
   "display_name": ".venv",
   "language": "python",
   "name": "python3"
  },
  "language_info": {
   "codemirror_mode": {
    "name": "ipython",
    "version": 3
   },
   "file_extension": ".py",
   "mimetype": "text/x-python",
   "name": "python",
   "nbconvert_exporter": "python",
   "pygments_lexer": "ipython3",
   "version": "3.9.6"
  }
 },
 "nbformat": 4,
 "nbformat_minor": 2
}
