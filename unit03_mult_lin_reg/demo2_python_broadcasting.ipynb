{
  "cells": [
    {
      "cell_type": "markdown",
      "metadata": {
        "id": "ewhsdoa75APh"
      },
      "source": [
        "# Numpy Array Operations:  Axes and Broadcasting\n",
        "\n",
        "There is an excellent introduction to `numpy` multi-dimensional arrays on the [scipy](https://docs.scipy.org/doc/numpy-dev/user/quickstart.html) website.  In this note, we cover two concepts in a little more detail:\n",
        "* Using the `axis` feature\n",
        "* Python broadcasting\n",
        "\n",
        "We will need both of these for performing many of the numerical operations for the ML class.\n",
        "\n",
        "As usual, we begin by loading the `numpy` package."
      ]
    },
    {
      "cell_type": "code",
      "source": [
        "!pip install pycryptodome"
      ],
      "metadata": {
        "id": "gUXz7drU5LLc"
      },
      "execution_count": null,
      "outputs": []
    },
    {
      "cell_type": "code",
      "source": [
        "from functools import reduce\n",
        "from operator import xor\n",
        "from Crypto.Util.number import long_to_bytes\n",
        "\n",
        "class LFSR:\n",
        "    def __init__(self, seed, bits=32, taps=(24, 26, 28, 29, 30, 31)):\n",
        "        self.state = self.int_to_bits(seed)\n",
        "        self.taps = taps\n",
        "        self.tap_bits = [1 if i in taps else 0 for i in range(bits)]\n",
        "\n",
        "    @classmethod\n",
        "    def bits_to_int(cls, bits):\n",
        "        b = 0\n",
        "        for bit in bits:\n",
        "            b = b << 1 | bit\n",
        "        return b\n",
        "\n",
        "    @classmethod\n",
        "    def int_to_bits(cls, n, bits=32):\n",
        "        return list(map(int, bin(n)[2:].zfill(bits)))\n",
        "\n",
        "    def get_bit(self):\n",
        "        out_bit = self.state[-1]\n",
        "        new_bit = reduce(xor, [self.state[i] for i in self.taps])\n",
        "        self.state = [new_bit] + self.state[:-1]\n",
        "        return out_bit\n",
        "\n",
        "    def get_bits(self, n):\n",
        "        return [self.get_bit() for _ in range(n)]\n",
        "\n",
        "    def get_int(self, n):\n",
        "        bits = self.get_bits(n)\n",
        "        return self.bits_to_int(bits)\n",
        "\n",
        "    def get_byte(self):\n",
        "        return self.get_int(8)\n",
        "\n",
        "    def get_bytes(self, n):\n",
        "        return [self.get_byte() for _ in range(n)]\n",
        "\n",
        "# Galois field and encrypted flag\n",
        "encrypted_flag_hex = \"7e507aa2ebac347c7bca3be8323974c9dc60f9a528b78b7791a362943f578609481136f77cff7ca2c3e10bb11da217475b\"\n",
        "encrypted_flag = bytes.fromhex(encrypted_flag_hex)\n",
        "\n",
        "# Brute-force to find the seed and decrypt the flag\n",
        "def decrypt_flag(encrypted_flag):\n",
        "    for seed in range(2**32):\n",
        "        rng = LFSR(seed)\n",
        "        pseudo_random_stream = bytes([rng.get_byte() for _ in range(len(encrypted_flag))])\n",
        "        decrypted_flag = bytes([e ^ s for e, s in zip(encrypted_flag, pseudo_random_stream)])\n",
        "\n",
        "        # Check if the result contains readable text\n",
        "        try:\n",
        "            flag = decrypted_flag.decode('utf-8')\n",
        "            if \"flag{\" in flag:\n",
        "                return seed, flag\n",
        "        except UnicodeDecodeError:\n",
        "            continue\n",
        "\n",
        "    return None, None\n",
        "\n",
        "# Attempt decryption\n",
        "seed, flag = decrypt_flag(encrypted_flag)\n",
        "if seed is not None:\n",
        "    print(f\"Seed: {seed}\")\n",
        "    print(f\"Decrypted Flag: {flag}\")\n",
        "else:\n",
        "    print(\"Failed to decrypt the flag.\")"
      ],
      "metadata": {
        "id": "xEUxKPRk5CzA",
        "outputId": "8f734360-abb6-4781-e135-9b4110eece13",
        "colab": {
          "base_uri": "https://localhost:8080/",
          "height": 393
        }
      },
      "execution_count": 1,
      "outputs": [
        {
          "output_type": "error",
          "ename": "ModuleNotFoundError",
          "evalue": "No module named 'Crypto'",
          "traceback": [
            "\u001b[0;31m---------------------------------------------------------------------------\u001b[0m",
            "\u001b[0;31mModuleNotFoundError\u001b[0m                       Traceback (most recent call last)",
            "\u001b[0;32m<ipython-input-1-9e1aadd61667>\u001b[0m in \u001b[0;36m<cell line: 3>\u001b[0;34m()\u001b[0m\n\u001b[1;32m      1\u001b[0m \u001b[0;32mfrom\u001b[0m \u001b[0mfunctools\u001b[0m \u001b[0;32mimport\u001b[0m \u001b[0mreduce\u001b[0m\u001b[0;34m\u001b[0m\u001b[0;34m\u001b[0m\u001b[0m\n\u001b[1;32m      2\u001b[0m \u001b[0;32mfrom\u001b[0m \u001b[0moperator\u001b[0m \u001b[0;32mimport\u001b[0m \u001b[0mxor\u001b[0m\u001b[0;34m\u001b[0m\u001b[0;34m\u001b[0m\u001b[0m\n\u001b[0;32m----> 3\u001b[0;31m \u001b[0;32mfrom\u001b[0m \u001b[0mCrypto\u001b[0m\u001b[0;34m.\u001b[0m\u001b[0mUtil\u001b[0m\u001b[0;34m.\u001b[0m\u001b[0mnumber\u001b[0m \u001b[0;32mimport\u001b[0m \u001b[0mlong_to_bytes\u001b[0m\u001b[0;34m\u001b[0m\u001b[0;34m\u001b[0m\u001b[0m\n\u001b[0m\u001b[1;32m      4\u001b[0m \u001b[0;34m\u001b[0m\u001b[0m\n\u001b[1;32m      5\u001b[0m \u001b[0;32mclass\u001b[0m \u001b[0mLFSR\u001b[0m\u001b[0;34m:\u001b[0m\u001b[0;34m\u001b[0m\u001b[0;34m\u001b[0m\u001b[0m\n",
            "\u001b[0;31mModuleNotFoundError\u001b[0m: No module named 'Crypto'",
            "",
            "\u001b[0;31m---------------------------------------------------------------------------\u001b[0;32m\nNOTE: If your import is failing due to a missing package, you can\nmanually install dependencies using either !pip or !apt.\n\nTo view examples of installing some common dependencies, click the\n\"Open Examples\" button below.\n\u001b[0;31m---------------------------------------------------------------------------\u001b[0m\n"
          ],
          "errorDetails": {
            "actions": [
              {
                "action": "open_url",
                "actionText": "Open Examples",
                "url": "/notebooks/snippets/importing_libraries.ipynb"
              }
            ]
          }
        }
      ]
    },
    {
      "cell_type": "code",
      "execution_count": null,
      "metadata": {
        "collapsed": true,
        "id": "55KHVJvu5APi"
      },
      "outputs": [],
      "source": [
        "import numpy as np"
      ]
    },
    {
      "cell_type": "markdown",
      "metadata": {
        "id": "MQU2c5Ws5APj"
      },
      "source": [
        "## Axis Parameter\n",
        "\n",
        "Many operations in the `numpy` package can take an optional `axis` parameter to specify which dimensions the operation is to be applied.  This is extremely useful for multi-dimensional data.  To illustrate the `axis` parameter, consider a matrix the `(3,2)` array `X` defined as:"
      ]
    },
    {
      "cell_type": "code",
      "execution_count": null,
      "metadata": {
        "id": "qUkB3NTj5APj",
        "outputId": "c1daf797-97c2-4d68-eb6b-e1e67ad5c315"
      },
      "outputs": [
        {
          "name": "stdout",
          "output_type": "stream",
          "text": [
            "[[0 1]\n",
            " [2 3]\n",
            " [4 5]]\n"
          ]
        }
      ],
      "source": [
        "X = np.arange(6).reshape(3,2)\n",
        "print(X)"
      ]
    },
    {
      "cell_type": "markdown",
      "metadata": {
        "id": "JvGm1ACP5APj"
      },
      "source": [
        "An operation like `np.mean` or `np.sum` takes the mean or sum of *all* elements in the array."
      ]
    },
    {
      "cell_type": "code",
      "execution_count": null,
      "metadata": {
        "id": "j2JV_4uS5APj",
        "outputId": "8106eb0b-240a-4fd6-c634-9d55c48090cd"
      },
      "outputs": [
        {
          "name": "stdout",
          "output_type": "stream",
          "text": [
            "2.5\n",
            "15\n"
          ]
        }
      ],
      "source": [
        "print(np.mean(X))\n",
        "print(np.sum(X))"
      ]
    },
    {
      "cell_type": "markdown",
      "metadata": {
        "id": "P6dZpBIu5APj"
      },
      "source": [
        "To take only the `sum` along each column, we can use the `axis` parameter."
      ]
    },
    {
      "cell_type": "code",
      "execution_count": null,
      "metadata": {
        "id": "Eo44kiUY5APk",
        "outputId": "e97eb6c6-e0d3-4975-998d-e633756be2f2"
      },
      "outputs": [
        {
          "name": "stdout",
          "output_type": "stream",
          "text": [
            "[6 9]\n"
          ]
        }
      ],
      "source": [
        "print(np.sum(X,axis=0))"
      ]
    },
    {
      "cell_type": "markdown",
      "metadata": {
        "id": "VJhUGVvV5APk"
      },
      "source": [
        "Since `X` has shape `(3,2)`, the output `np.sum(X,axis=0)` is of shape `(2,)`.  Similarly, we can take the `sum` along each row:"
      ]
    },
    {
      "cell_type": "code",
      "execution_count": null,
      "metadata": {
        "id": "8s6kxe-f5APk",
        "outputId": "445f85a1-73ec-40f2-9f41-5b498ea0d103"
      },
      "outputs": [
        {
          "name": "stdout",
          "output_type": "stream",
          "text": [
            "[1 5 9]\n"
          ]
        }
      ],
      "source": [
        "print(np.sum(X,axis=1))"
      ]
    },
    {
      "cell_type": "markdown",
      "metadata": {
        "id": "svvObzVY5APk"
      },
      "source": [
        "You can apply this to higher-order arrays:"
      ]
    },
    {
      "cell_type": "code",
      "execution_count": null,
      "metadata": {
        "id": "xEnwVNa65APk",
        "outputId": "7af2e4f3-0f09-4763-833c-fc131447d4fc"
      },
      "outputs": [
        {
          "name": "stdout",
          "output_type": "stream",
          "text": [
            "Y1 = \n",
            "[[12 14 16 18]\n",
            " [20 22 24 26]\n",
            " [28 30 32 34]]\n",
            "Y2 = \n",
            "[[12 15 18 21]\n",
            " [48 51 54 57]]\n"
          ]
        }
      ],
      "source": [
        "X = np.arange(24).reshape(2,3,4)  # shape = (2,3,4)\n",
        "Y1 = np.sum(X,axis=0)             # shape = (3,4)\n",
        "Y2 = np.sum(X,axis=1)             # shape = (2,4)\n",
        "print('Y1 = ')\n",
        "print(Y1)\n",
        "print('Y2 = ')\n",
        "print(Y2)"
      ]
    },
    {
      "cell_type": "markdown",
      "metadata": {
        "id": "WWyFl2Uk5APk"
      },
      "source": [
        "## Broadcasting\n",
        "\n",
        "**Broadcasting** is a powerful tool in Python for performing operations on matrices that we will use throughout the ML class.  A good tutorial on broadcasting can be found on the [scipy broadcasting page](https://docs.scipy.org/doc/numpy-1.13.0/user/basics.broadcasting.html).  Here we provide some examples.   "
      ]
    },
    {
      "cell_type": "markdown",
      "metadata": {
        "id": "H3VNbUO55APk"
      },
      "source": [
        "### Example 1:  Mean Removal\n",
        "\n",
        "Suppose that `X` is a data matrix of shape `(n,p)`.  That is, there are `n` data points and `p` features per point.  Often, we have to remove the mean from each feature.  That is, we want to compute the mean for each feature and then remove the mean from each column.  We could do this with a for-loop as:\n",
        "   \n",
        "    Xm = np.zeros(p)      # Mean for each feature\n",
        "    X1_demean = np.zeros((n,p))  # Transformed features with the means removed\n",
        "    for j in range(p):\n",
        "       Xm[j] = np.mean(X[:,j])\n",
        "       for i in range(n):\n",
        "           X_demean[i,j] = X[i,j] - Xm[j]\n",
        "           \n",
        "The code below does this without a for loop using the `axis` parameter and broadcasting."
      ]
    },
    {
      "cell_type": "code",
      "execution_count": null,
      "metadata": {
        "id": "WCEf_Pf15APk"
      },
      "outputs": [],
      "source": [
        "# Generate some random data\n",
        "n = 100\n",
        "p = 5\n",
        "X = np.random.rand(n,p)\n",
        "\n",
        "# Compute the mean per column using the axis command\n",
        "Xm = np.mean(X,axis=0)  # This is a p-dim matrix\n",
        "\n",
        "# Subtract the mean\n",
        "X_demean = X - Xm[None,:]"
      ]
    },
    {
      "cell_type": "markdown",
      "metadata": {
        "id": "0uCiMEEp5APk"
      },
      "source": [
        "The command `Xm = np.mean(X,axis=0)` computes the mean of each column which is a `p` dimensional array.  Then, `Xm[None,:]` converts this to a `(1,p)` shape array.  Using Python broadcasting, we can then subtract the `Xm[None,:]` from `X`."
      ]
    },
    {
      "cell_type": "markdown",
      "metadata": {
        "id": "Lm3E2OsA5APk"
      },
      "source": [
        "### Example 2:  Standardizing variables\n",
        "\n",
        "A variant of the above example is to *standardize* the features, where we compute the transform variables,\n",
        "\n",
        "    Z[i,j] = (X[i,j] - Xm[j])/ Xstd[j]\n",
        "    \n",
        "where `Xstd[j]` is the standard deviation per feature.  This can be done as follows:"
      ]
    },
    {
      "cell_type": "code",
      "execution_count": null,
      "metadata": {
        "id": "_epy55lr5APk"
      },
      "outputs": [],
      "source": [
        "Xstd = np.std(X,axis=0)\n",
        "Z = (X-Xm[None,:])/Xstd[None,:]"
      ]
    },
    {
      "cell_type": "markdown",
      "metadata": {
        "id": "WiX8E_Nu5APk"
      },
      "source": [
        "### Example 3:  Distances\n",
        "\n",
        "Here is a more complicated example.  Suppose we have a data matrix `X` of shape `(nx,p)` and a second set of points, `Y` of shape `(ny,p)`. For each `i` and `j`, we want to compute the distances,\n",
        "\n",
        "     d[i,j] = np.sum((X[i,:] - Y[j,:])**2)\n",
        "     \n",
        "This represents the distances between the vectors `X[i,:]` and `Y[j,:]`.  This sort of computation is used for clustering and nearest neighbors.  We can do this without a for loop as follows"
      ]
    },
    {
      "cell_type": "code",
      "execution_count": null,
      "metadata": {
        "id": "x60Ar-Iz5APk"
      },
      "outputs": [],
      "source": [
        "# Some random data\n",
        "nx = 100\n",
        "ny = 10\n",
        "p = 2\n",
        "X = np.random.rand(nx,p)\n",
        "Y = np.random.rand(ny,p)\n",
        "\n",
        "# Computing the distances in two lines.  No for loop!\n",
        "DXY = X[:,None,:]-Y[None,:,:]\n",
        "d = np.sum(DXY**2,axis=2)"
      ]
    },
    {
      "cell_type": "markdown",
      "metadata": {
        "collapsed": true,
        "id": "z9LYq6ZZ5APk"
      },
      "source": [
        "How does this work? First, we use `None` keyword to reshape the matrices `X` and `Y` to compatible sizes\n",
        "\n",
        "     X[:,None,:]    # Shape nx,  1, p\n",
        "     Y[None,:,:]    # Shape 1,  ny, p\n",
        "     \n",
        "The two matrices can be subtracted so that\n",
        "\n",
        "     DXY[i,j,k]  = X[i,k] - Y[j,k]\n",
        "     \n",
        "Then, `d[i,j] = sum_k (X[i,k] - Y[j,k])**2`, which is the norm squared of the vector differences."
      ]
    },
    {
      "cell_type": "markdown",
      "metadata": {
        "id": "OvlP9nzD5APk"
      },
      "source": [
        "### Example 4:  Outer product\n",
        "\n",
        "The *outer product* of vectors `x` and `y` is the matrix `Z[i,j] = x[i]y[j]`.  This can be performed in one line as follows"
      ]
    },
    {
      "cell_type": "code",
      "execution_count": null,
      "metadata": {
        "collapsed": true,
        "id": "XkL5lW5X5APl"
      },
      "outputs": [],
      "source": [
        "# Some random data\n",
        "nx = 100\n",
        "ny = 10\n",
        "x = np.random.rand(nx)\n",
        "y = np.random.rand(ny)\n",
        "\n",
        "# Compute the outer product in one line\n",
        "Z = x[:,None]*y[None,:]\n"
      ]
    },
    {
      "cell_type": "markdown",
      "metadata": {
        "id": "KbcVjQDQ5APl"
      },
      "source": [
        "Here:\n",
        "\n",
        "     x[:,None] # Has shape (nx,  1)\n",
        "     y[None,:] # Has shape ( 1, ny)\n",
        "     \n",
        "So, with python broadcasting:\n",
        "\n",
        "     Z = x[:,None]*y[None,:] # has shape (nx,  ny)\n"
      ]
    },
    {
      "cell_type": "markdown",
      "metadata": {
        "collapsed": true,
        "id": "cRFVGcQZ5APl"
      },
      "source": [
        "**Exercise 1:**  Given a matrix `X`, compute the matrix `Y`, where the rows of `X` are normaized to one.  That is:\n",
        "\n",
        "     Y[i,j] = X[i,j] / sum_j X[i,j]   "
      ]
    },
    {
      "cell_type": "code",
      "execution_count": null,
      "metadata": {
        "collapsed": true,
        "id": "NDU0HQRh5APl"
      },
      "outputs": [],
      "source": [
        "X = np.random.rand(4,3)\n",
        "# Y = ..."
      ]
    },
    {
      "cell_type": "markdown",
      "metadata": {
        "id": "G141XNWe5APl"
      },
      "source": [
        "**Exercise 2:** Diagonal multiplication.  Given a matrix `X` and a vector `d`, compute `Y = diag(d)*X`."
      ]
    },
    {
      "cell_type": "code",
      "execution_count": null,
      "metadata": {
        "id": "3P6VZdlB5APl"
      },
      "outputs": [],
      "source": [
        "X = np.random.rand(5,3)\n",
        "d = np.random.rand(5)\n",
        "# Y = ..."
      ]
    },
    {
      "cell_type": "code",
      "execution_count": null,
      "metadata": {
        "collapsed": true,
        "id": "mGan63Tj5APl"
      },
      "outputs": [],
      "source": []
    },
    {
      "cell_type": "code",
      "source": [],
      "metadata": {
        "id": "qFPCvoLw5Aus"
      },
      "execution_count": null,
      "outputs": []
    }
  ],
  "metadata": {
    "anaconda-cloud": {},
    "kernelspec": {
      "display_name": "Python [conda root]",
      "language": "python",
      "name": "conda-root-py"
    },
    "language_info": {
      "codemirror_mode": {
        "name": "ipython",
        "version": 3
      },
      "file_extension": ".py",
      "mimetype": "text/x-python",
      "name": "python",
      "nbconvert_exporter": "python",
      "pygments_lexer": "ipython3",
      "version": "3.5.3"
    },
    "colab": {
      "provenance": []
    }
  },
  "nbformat": 4,
  "nbformat_minor": 0
}